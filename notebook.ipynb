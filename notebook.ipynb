{
 "cells": [
  {
   "cell_type": "code",
   "execution_count": 1,
   "metadata": {},
   "outputs": [],
   "source": [
    "MODEL = \"llama2:latest\""
   ]
  },
  {
   "cell_type": "code",
   "execution_count": 2,
   "metadata": {},
   "outputs": [
    {
     "name": "stderr",
     "output_type": "stream",
     "text": [
      "C:\\Users\\sagar\\AppData\\Local\\Temp\\ipykernel_11532\\3187340122.py:5: LangChainDeprecationWarning: The class `OllamaEmbeddings` was deprecated in LangChain 0.3.1 and will be removed in 1.0.0. An updated version of the class exists in the :class:`~langchain-ollama package and should be used instead. To use it run `pip install -U :class:`~langchain-ollama` and import as `from :class:`~langchain_ollama import OllamaEmbeddings``.\n",
      "  embedding = OllamaEmbeddings()\n"
     ]
    }
   ],
   "source": [
    "from langchain_ollama.llms import OllamaLLM\n",
    "from langchain_community.embeddings import OllamaEmbeddings\n",
    "\n",
    "model = OllamaLLM(model=MODEL)\n",
    "embedding = OllamaEmbeddings()\n",
    "# model.invoke('tell me a joke')\n"
   ]
  },
  {
   "cell_type": "code",
   "execution_count": 3,
   "metadata": {},
   "outputs": [],
   "source": [
    "from langchain_core.output_parsers import StrOutputParser\n",
    "parser = StrOutputParser()\n",
    "\n",
    "chain = model | parser\n",
    "# chain.invoke('what is the capital of India')"
   ]
  },
  {
   "cell_type": "code",
   "execution_count": 4,
   "metadata": {},
   "outputs": [
    {
     "data": {
      "text/plain": [
       "[Document(metadata={'producer': 'pdfTeX-1.40.26', 'creator': 'LaTeX with hyperref', 'creationdate': '2025-08-14T19:54:39+00:00', 'author': '', 'keywords': '', 'moddate': '2025-08-14T19:54:39+00:00', 'ptex.fullbanner': 'This is pdfTeX, Version 3.141592653-2.6-1.40.26 (TeX Live 2024) kpathsea version 6.4.0', 'subject': '', 'title': '', 'trapped': '/False', 'source': 'sagar-manchakatla-resume.pdf', 'total_pages': 1, 'page': 0, 'page_label': '1'}, page_content='Sagar Manchakatla\\n+91 9987799356 | sagarmanchakatla01@gmail.com | https://www.linkedin.com/in/sagar-manchakatla/\\nEducation\\nThadomal Shahani Engineering College Mumbai, India\\nBachelor of Engineering in Computer Engineering; CGPA: 9.34 Aug. 2023 – May 2026\\nGovernment Polytechnic Mumbai, India\\nDiploma in Instrumentation Engineering; Percentage: 94% Aug. 2020 – May 2023\\nExperience\\nFull Stack Intern Aug. 2025 – Jul. 2025\\nConverse AI Labs Remote\\n• Developed and deployed backend services using FastAPI with scalable, low-latency, and modular architecture.\\n• Built automation workflows in n8n enabling voice-based AI lead qualification across multiple industries.\\n• Created custom LLM WebSocket servers with Client/Retell for real-time conversational AI interactions.\\n• Integrated Portkey.ai for LLM usage tracking, optimizing cost and enhancing transparency.\\n• Refactored legacy codebases to improve performance, reduce technical debt, and enhance maintainability.\\n• Delivered client demos leading to successful business onboarding and validation of product features.\\nMERN and Python Mentor Jul. 2024\\nStatic Int. Educare Mumbai, India\\n• Mentored 200+ students in Python, covering beginner to advanced programming concepts.\\n• Taught data science tools: NumPy, Pandas, Streamlit, and Matplotlib with emphasis on EDA.\\n• Delivered training on web development fundamentals: HTML, CSS, JavaScript.\\n• Conducted hands-on MERN stack training (MongoDB, Express.js, React.js, Node.js) with project-based learning.\\nProjects\\nEndless Runner| Python, MediaPipe, scikit-learn, OpenCV, Unity\\n• Developed a real-time hand gesture recognition system controlling Unity-based gameplay.\\n• Achieved 93% classification accuracy using a Random Forest model on gesture data.\\n• Leveraged MediaPipe and OpenCV for landmark detection and preprocessing.\\nConnect.io | Next.js, Stream SDK, Node.js\\n• Built a secure video conferencing platform with real-time chat, recording, and attendance tracking.\\n• Integrated Stream SDK for low-latency communication with end-to-end encryption.\\n• Implemented private meetings, scheduling, and calendar integration.\\nTravel-Ease | AI, Web\\n• Created an AI-powered travel assistant for differently-abled individuals.\\n• Implemented sign language detection, text-to-sign translation, and voice chatbot features.\\n• Added SOS alerts, object detection, and accessible navigation via map APIs.\\n• Won hackathon award for promoting inclusive and accessible technology solutions.\\nTechnical Skills\\nLanguages: C, Python, Java, JavaScript, SQL\\nMachine Learning & Data Science: Pandas, NumPy, Matplotlib, Streamlit, Scikit-learn\\nWeb Development: HTML, CSS, JavaScript, ReactJS, Node.js, Express.js, Next.js, Flask, FastAPI\\nDatabases: PostgreSQL, MySQL, MongoDB\\nExtra Curricular Activities\\nMicrosoft Certified: Azure Fundamentals ( AZ-900).\\nHackathon Winner: Codeissance - CodeStorm, TSECfor Travel-Ease.')]"
      ]
     },
     "execution_count": 4,
     "metadata": {},
     "output_type": "execute_result"
    }
   ],
   "source": [
    "from langchain_community.document_loaders import PyPDFLoader\n",
    "\n",
    "loader = PyPDFLoader(\"sagar-manchakatla-resume.pdf\")\n",
    "pages = loader.load_and_split()\n",
    "pages"
   ]
  },
  {
   "cell_type": "code",
   "execution_count": 5,
   "metadata": {},
   "outputs": [],
   "source": [
    "from langchain.prompts import PromptTemplate\n",
    "template = \"\"\"\n",
    "    Answer the question based on the context below. If you can't \n",
    "    answer the question, reply \"I don't know\".\n",
    "\n",
    "    Context: {context}\n",
    "\n",
    "    Question: {question}\n",
    "\"\"\"\n",
    "prompt = PromptTemplate.from_template(template=template)"
   ]
  },
  {
   "cell_type": "code",
   "execution_count": 6,
   "metadata": {},
   "outputs": [
    {
     "data": {
      "text/plain": [
       "'Hi there! My name is Santiago, just like my parents named me. Nice to meet you!'"
      ]
     },
     "execution_count": 6,
     "metadata": {},
     "output_type": "execute_result"
    }
   ],
   "source": [
    "chain = prompt | model | parser\n",
    "\n",
    "chain.invoke({\"context\": \"My parents named me Santiago\", \"question\": \"What's your name'?\"})"
   ]
  },
  {
   "cell_type": "code",
   "execution_count": null,
   "metadata": {},
   "outputs": [],
   "source": [
    "chain.input_schema.schema()"
   ]
  },
  {
   "cell_type": "code",
   "execution_count": 7,
   "metadata": {},
   "outputs": [
    {
     "name": "stderr",
     "output_type": "stream",
     "text": [
      "c:\\OLLAMA\\local-RAG\\.venv\\Lib\\site-packages\\pydantic\\_migration.py:283: UserWarning: `pydantic.error_wrappers:ValidationError` has been moved to `pydantic:ValidationError`.\n",
      "  warnings.warn(f'`{import_path}` has been moved to `{new_location}`.')\n"
     ]
    }
   ],
   "source": [
    "from langchain_community.vectorstores import DocArrayInMemorySearch\n",
    "\n",
    "vectorstore = DocArrayInMemorySearch.from_documents(pages, embedding)"
   ]
  },
  {
   "cell_type": "code",
   "execution_count": 8,
   "metadata": {},
   "outputs": [
    {
     "data": {
      "text/plain": [
       "[Document(metadata={'producer': 'pdfTeX-1.40.26', 'creator': 'LaTeX with hyperref', 'creationdate': '2025-08-14T19:54:39+00:00', 'author': '', 'keywords': '', 'moddate': '2025-08-14T19:54:39+00:00', 'ptex.fullbanner': 'This is pdfTeX, Version 3.141592653-2.6-1.40.26 (TeX Live 2024) kpathsea version 6.4.0', 'subject': '', 'title': '', 'trapped': '/False', 'source': 'sagar-manchakatla-resume.pdf', 'total_pages': 1, 'page': 0, 'page_label': '1'}, page_content='Sagar Manchakatla\\n+91 9987799356 | sagarmanchakatla01@gmail.com | https://www.linkedin.com/in/sagar-manchakatla/\\nEducation\\nThadomal Shahani Engineering College Mumbai, India\\nBachelor of Engineering in Computer Engineering; CGPA: 9.34 Aug. 2023 – May 2026\\nGovernment Polytechnic Mumbai, India\\nDiploma in Instrumentation Engineering; Percentage: 94% Aug. 2020 – May 2023\\nExperience\\nFull Stack Intern Aug. 2025 – Jul. 2025\\nConverse AI Labs Remote\\n• Developed and deployed backend services using FastAPI with scalable, low-latency, and modular architecture.\\n• Built automation workflows in n8n enabling voice-based AI lead qualification across multiple industries.\\n• Created custom LLM WebSocket servers with Client/Retell for real-time conversational AI interactions.\\n• Integrated Portkey.ai for LLM usage tracking, optimizing cost and enhancing transparency.\\n• Refactored legacy codebases to improve performance, reduce technical debt, and enhance maintainability.\\n• Delivered client demos leading to successful business onboarding and validation of product features.\\nMERN and Python Mentor Jul. 2024\\nStatic Int. Educare Mumbai, India\\n• Mentored 200+ students in Python, covering beginner to advanced programming concepts.\\n• Taught data science tools: NumPy, Pandas, Streamlit, and Matplotlib with emphasis on EDA.\\n• Delivered training on web development fundamentals: HTML, CSS, JavaScript.\\n• Conducted hands-on MERN stack training (MongoDB, Express.js, React.js, Node.js) with project-based learning.\\nProjects\\nEndless Runner| Python, MediaPipe, scikit-learn, OpenCV, Unity\\n• Developed a real-time hand gesture recognition system controlling Unity-based gameplay.\\n• Achieved 93% classification accuracy using a Random Forest model on gesture data.\\n• Leveraged MediaPipe and OpenCV for landmark detection and preprocessing.\\nConnect.io | Next.js, Stream SDK, Node.js\\n• Built a secure video conferencing platform with real-time chat, recording, and attendance tracking.\\n• Integrated Stream SDK for low-latency communication with end-to-end encryption.\\n• Implemented private meetings, scheduling, and calendar integration.\\nTravel-Ease | AI, Web\\n• Created an AI-powered travel assistant for differently-abled individuals.\\n• Implemented sign language detection, text-to-sign translation, and voice chatbot features.\\n• Added SOS alerts, object detection, and accessible navigation via map APIs.\\n• Won hackathon award for promoting inclusive and accessible technology solutions.\\nTechnical Skills\\nLanguages: C, Python, Java, JavaScript, SQL\\nMachine Learning & Data Science: Pandas, NumPy, Matplotlib, Streamlit, Scikit-learn\\nWeb Development: HTML, CSS, JavaScript, ReactJS, Node.js, Express.js, Next.js, Flask, FastAPI\\nDatabases: PostgreSQL, MySQL, MongoDB\\nExtra Curricular Activities\\nMicrosoft Certified: Azure Fundamentals ( AZ-900).\\nHackathon Winner: Codeissance - CodeStorm, TSECfor Travel-Ease.')]"
      ]
     },
     "execution_count": 8,
     "metadata": {},
     "output_type": "execute_result"
    }
   ],
   "source": [
    "retriever = vectorstore.as_retriever()\n",
    "retriever.invoke('Government Polytechnic')"
   ]
  },
  {
   "cell_type": "code",
   "execution_count": 9,
   "metadata": {},
   "outputs": [],
   "source": [
    "from operator import itemgetter\n",
    "\n",
    "chain = (\n",
    "    {\n",
    "        \"context\": itemgetter(\"question\") | retriever,\n",
    "        \"question\": itemgetter(\"question\"),\n",
    "    }\n",
    "    | prompt\n",
    "    | model\n",
    "    | parser\n",
    ")"
   ]
  },
  {
   "cell_type": "code",
   "execution_count": 11,
   "metadata": {},
   "outputs": [
    {
     "name": "stdout",
     "output_type": "stream",
     "text": [
      "Question : How many  internships i have completed\n",
      "Answer: Based on the provided PDF document, you have completed 3 internships:\n",
      "\n",
      "1. Full Stack Intern at Converse AI Labs from August to July of the following year (2025-2026).\n",
      "2. MERN and Python Mentor at Static Int. Educare from July to December of the previous year (2024).\n",
      "3. Projects intern at Endless Runner, MediaPipe, scikit-learn, OpenCV, and Unity from August to December of the previous year (2025).\n",
      "\n",
      "Question : How many projects i have completedWhat is my education\n",
      "Answer: Based on the provided PDF document, you have completed 5 projects:\n",
      "\n",
      "1. Endless Runner\n",
      "2. Connect.io\n",
      "3. Travel-Ease\n",
      "\n",
      "Your education is:\n",
      "\n",
      "Thadomal Shahani Engineering College Mumbai, India\n",
      "Bachelor of Engineering in Computer Engineering; CGPA: 9.34 Aug. 2023 – May 2026\n",
      "Government Polytechnic Mumbai, India\n",
      "Diploma in Instrumentation Engineering; Percentage: 94% Aug. 2020 – May 2023\n",
      "\n"
     ]
    }
   ],
   "source": [
    "questions = [\n",
    "    'How many internships i have completed',\n",
    "    'How many projects i have completed'\n",
    "    'What is my education'\n",
    "]\n",
    "\n",
    "for question in questions:\n",
    "    print(f\"Question : {question}\")\n",
    "    print(f\"Answer: {chain.invoke({'question': question})}\")\n",
    "    print()"
   ]
  },
  {
   "cell_type": "code",
   "execution_count": 12,
   "metadata": {},
   "outputs": [
    {
     "data": {
      "text/plain": [
       "['Based on the provided PDF document, you have completed 3 internships:\\n\\n1. Full Stack Intern at Converse AI Labs from August 2025 to July 2025\\n2. MERN and Python Mentor at Static Int. Educare from July 2024\\n3. Project-based learning mentor at Endless Runner from January 2023 to April 2023\\n\\nTherefore, the answer to your question is \"3 internships\".',\n",
       " 'Based on the provided PDF document, you have completed 7 projects. Your education is listed as \"Thadomal Shahani Engineering College Mumbai, India\" where you studied Computer Engineering and earned a Bachelor of Engineering degree with a CGPA of 9.34 from Aug. 2023 to May 2026, followed by a Diploma in Instrumentation Engineering from Government Polytechnic Mumbai, India with a percentage of 94 from Aug. 2020 to May 2023.']"
      ]
     },
     "execution_count": 12,
     "metadata": {},
     "output_type": "execute_result"
    }
   ],
   "source": [
    "chain.batch([{\"question\": q} for q in questions])\n"
   ]
  },
  {
   "cell_type": "code",
   "execution_count": null,
   "metadata": {},
   "outputs": [],
   "source": [
    "for s in chain.stream({\"question\": \"What is the purpose of the course?\"}):\n",
    "    print(s, end=\"\", flush=True)"
   ]
  }
 ],
 "metadata": {
  "kernelspec": {
   "display_name": ".venv",
   "language": "python",
   "name": "python3"
  },
  "language_info": {
   "codemirror_mode": {
    "name": "ipython",
    "version": 3
   },
   "file_extension": ".py",
   "mimetype": "text/x-python",
   "name": "python",
   "nbconvert_exporter": "python",
   "pygments_lexer": "ipython3",
   "version": "3.12.5"
  }
 },
 "nbformat": 4,
 "nbformat_minor": 2
}
